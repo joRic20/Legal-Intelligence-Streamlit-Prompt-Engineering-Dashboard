{
 "cells": [
  {
   "cell_type": "code",
   "execution_count": 1,
   "id": "481e364c",
   "metadata": {},
   "outputs": [
    {
     "name": "stdout",
     "output_type": "stream",
     "text": [
      "/Users/joric/Documents/NLP Project/Prompt Engineering\n"
     ]
    }
   ],
   "source": [
    "import os\n",
    "project_root = os.path.abspath(os.path.join(os.getcwd(), os.pardir, os.pardir, \"NLP Project/Prompt Engineering\"))\n",
    "print(project_root)"
   ]
  },
  {
   "cell_type": "code",
   "execution_count": 2,
   "id": "ee38cd03",
   "metadata": {},
   "outputs": [],
   "source": [
    "import sys\n",
    "sys.path.append(os.path.join(project_root, 'src', 'static'))\n",
    "from settings import AZURE_API_KEY, AZURE_OPENAI_ENDPOINT"
   ]
  },
  {
   "cell_type": "code",
   "execution_count": 3,
   "id": "33f2df7d",
   "metadata": {},
   "outputs": [],
   "source": [
    "from openai import AzureOpenAI\n",
    "client = AzureOpenAI(\n",
    "    api_key=AZURE_API_KEY,\n",
    "    azure_endpoint=AZURE_OPENAI_ENDPOINT,\n",
    "    api_version=\"2024-12-01-preview\"\n",
    ")"
   ]
  },
  {
   "cell_type": "code",
   "execution_count": 4,
   "id": "6c8df2eb",
   "metadata": {},
   "outputs": [
    {
     "name": "stdout",
     "output_type": "stream",
     "text": [
      "Confirmation: I am here and ready to assist you! How can I help you today?\n"
     ]
    }
   ],
   "source": [
    "response = client.chat.completions.create(\n",
    "    model=\"gpt-4o-mini\", \n",
    "    messages=[\n",
    "        {\"role\": \"system\", \"content\": \"You are a helpful assistant.\"},\n",
    "        {\"role\": \"user\", \"content\": \"This is a test prompt to GPT-4o. Please reply with a confirmation.\"}\n",
    "    ]\n",
    ")\n",
    "\n",
    "print(response.choices[0].message.content)"
   ]
  },
  {
   "cell_type": "code",
   "execution_count": 5,
   "id": "56dfb1b1",
   "metadata": {},
   "outputs": [
    {
     "data": {
      "text/html": [
       "<div>\n",
       "<style scoped>\n",
       "    .dataframe tbody tr th:only-of-type {\n",
       "        vertical-align: middle;\n",
       "    }\n",
       "\n",
       "    .dataframe tbody tr th {\n",
       "        vertical-align: top;\n",
       "    }\n",
       "\n",
       "    .dataframe thead th {\n",
       "        text-align: right;\n",
       "    }\n",
       "</style>\n",
       "<table border=\"1\" class=\"dataframe\">\n",
       "  <thead>\n",
       "    <tr style=\"text-align: right;\">\n",
       "      <th></th>\n",
       "      <th>filename</th>\n",
       "      <th>folder</th>\n",
       "      <th>path</th>\n",
       "      <th>text</th>\n",
       "    </tr>\n",
       "  </thead>\n",
       "  <tbody>\n",
       "    <tr>\n",
       "      <th>0</th>\n",
       "      <td>PI_COM_C(2024)6154.pdf</td>\n",
       "      <td>2024-09</td>\n",
       "      <td>/Users/joric/Documents/NLP Project/Grant Thors...</td>\n",
       "      <td>EN   EN \\n \\n \\n EUROPEAN  \\nCOMMISSION   \\nBr...</td>\n",
       "    </tr>\n",
       "    <tr>\n",
       "      <th>1</th>\n",
       "      <td>02013R0401-20240913.pdf</td>\n",
       "      <td>2024-09</td>\n",
       "      <td>/Users/joric/Documents/NLP Project/Grant Thors...</td>\n",
       "      <td>This text is meant purely as a documentation t...</td>\n",
       "    </tr>\n",
       "    <tr>\n",
       "      <th>2</th>\n",
       "      <td>62024TN0506.pdf</td>\n",
       "      <td>2024-09</td>\n",
       "      <td>/Users/joric/Documents/NLP Project/Grant Thors...</td>\n",
       "      <td>Action brought on 30 September 2024 – FL v Eur...</td>\n",
       "    </tr>\n",
       "    <tr>\n",
       "      <th>3</th>\n",
       "      <td>52024AS113580.pdf</td>\n",
       "      <td>2024-09</td>\n",
       "      <td>/Users/joric/Documents/NLP Project/Grant Thors...</td>\n",
       "      <td>Author isation for State aid pursuant to Artic...</td>\n",
       "    </tr>\n",
       "    <tr>\n",
       "      <th>4</th>\n",
       "      <td>02021R2248-20240929.pdf</td>\n",
       "      <td>2024-09</td>\n",
       "      <td>/Users/joric/Documents/NLP Project/Grant Thors...</td>\n",
       "      <td>This text is meant purely as a documentation t...</td>\n",
       "    </tr>\n",
       "    <tr>\n",
       "      <th>...</th>\n",
       "      <td>...</td>\n",
       "      <td>...</td>\n",
       "      <td>...</td>\n",
       "      <td>...</td>\n",
       "    </tr>\n",
       "    <tr>\n",
       "      <th>3320</th>\n",
       "      <td>PI_COM_C(2024)8001.pdf</td>\n",
       "      <td>2024-10</td>\n",
       "      <td>/Users/joric/Documents/NLP Project/Grant Thors...</td>\n",
       "      <td>EN   EN \\n \\n \\n EUROPEAN  \\nCOMMISSION   \\nBr...</td>\n",
       "    </tr>\n",
       "    <tr>\n",
       "      <th>3321</th>\n",
       "      <td>32024M11748.pdf</td>\n",
       "      <td>2024-10</td>\n",
       "      <td>/Users/joric/Documents/NLP Project/Grant Thors...</td>\n",
       "      <td>Commission européenne/Europese Commissie, 1049...</td>\n",
       "    </tr>\n",
       "    <tr>\n",
       "      <th>3322</th>\n",
       "      <td>PI_COM_C(2024)8000.pdf</td>\n",
       "      <td>2024-10</td>\n",
       "      <td>/Users/joric/Documents/NLP Project/Grant Thors...</td>\n",
       "      <td>COMMISSION\\tIMPLEMENTING\\tREGULATION\\t(EU)\\t…/...</td>\n",
       "    </tr>\n",
       "    <tr>\n",
       "      <th>3323</th>\n",
       "      <td>62024TN0537.pdf</td>\n",
       "      <td>2024-10</td>\n",
       "      <td>/Users/joric/Documents/NLP Project/Grant Thors...</td>\n",
       "      <td>Action brought on 18 Oct ober 2024 – GC v SRB\\...</td>\n",
       "    </tr>\n",
       "    <tr>\n",
       "      <th>3324</th>\n",
       "      <td>52024PC0453.pdf</td>\n",
       "      <td>2024-10</td>\n",
       "      <td>/Users/joric/Documents/NLP Project/Grant Thors...</td>\n",
       "      <td>EN   EN \\n \\n \\n EUROPEAN  \\nCOMMISSION   \\nBr...</td>\n",
       "    </tr>\n",
       "  </tbody>\n",
       "</table>\n",
       "<p>3325 rows × 4 columns</p>\n",
       "</div>"
      ],
      "text/plain": [
       "                     filename   folder  \\\n",
       "0      PI_COM_C(2024)6154.pdf  2024-09   \n",
       "1     02013R0401-20240913.pdf  2024-09   \n",
       "2             62024TN0506.pdf  2024-09   \n",
       "3           52024AS113580.pdf  2024-09   \n",
       "4     02021R2248-20240929.pdf  2024-09   \n",
       "...                       ...      ...   \n",
       "3320   PI_COM_C(2024)8001.pdf  2024-10   \n",
       "3321          32024M11748.pdf  2024-10   \n",
       "3322   PI_COM_C(2024)8000.pdf  2024-10   \n",
       "3323          62024TN0537.pdf  2024-10   \n",
       "3324          52024PC0453.pdf  2024-10   \n",
       "\n",
       "                                                   path  \\\n",
       "0     /Users/joric/Documents/NLP Project/Grant Thors...   \n",
       "1     /Users/joric/Documents/NLP Project/Grant Thors...   \n",
       "2     /Users/joric/Documents/NLP Project/Grant Thors...   \n",
       "3     /Users/joric/Documents/NLP Project/Grant Thors...   \n",
       "4     /Users/joric/Documents/NLP Project/Grant Thors...   \n",
       "...                                                 ...   \n",
       "3320  /Users/joric/Documents/NLP Project/Grant Thors...   \n",
       "3321  /Users/joric/Documents/NLP Project/Grant Thors...   \n",
       "3322  /Users/joric/Documents/NLP Project/Grant Thors...   \n",
       "3323  /Users/joric/Documents/NLP Project/Grant Thors...   \n",
       "3324  /Users/joric/Documents/NLP Project/Grant Thors...   \n",
       "\n",
       "                                                   text  \n",
       "0     EN   EN \\n \\n \\n EUROPEAN  \\nCOMMISSION   \\nBr...  \n",
       "1     This text is meant purely as a documentation t...  \n",
       "2     Action brought on 30 September 2024 – FL v Eur...  \n",
       "3     Author isation for State aid pursuant to Artic...  \n",
       "4     This text is meant purely as a documentation t...  \n",
       "...                                                 ...  \n",
       "3320  EN   EN \\n \\n \\n EUROPEAN  \\nCOMMISSION   \\nBr...  \n",
       "3321  Commission européenne/Europese Commissie, 1049...  \n",
       "3322  COMMISSION\\tIMPLEMENTING\\tREGULATION\\t(EU)\\t…/...  \n",
       "3323  Action brought on 18 Oct ober 2024 – GC v SRB\\...  \n",
       "3324  EN   EN \\n \\n \\n EUROPEAN  \\nCOMMISSION   \\nBr...  \n",
       "\n",
       "[3325 rows x 4 columns]"
      ]
     },
     "execution_count": 5,
     "metadata": {},
     "output_type": "execute_result"
    }
   ],
   "source": [
    "import pandas as pd\n",
    "import os\n",
    "\n",
    "#parquet_path = os.path.join(project_root,\"data\", \"eurolex_consolidated.parquet\")\n",
    "df_eurolex = pd.read_parquet(\"/Users/joric/Documents/NLP Project/Prompt Engineering /data/eurolex_consolidated.parquet\")\n",
    "df_eurolex"
   ]
  },
  {
   "cell_type": "code",
   "execution_count": 10,
   "id": "e2e23bff",
   "metadata": {},
   "outputs": [],
   "source": [
    "df_eurolex.head(5).to_csv(\"/Users/joric/Documents/NLP Project/eurolex_consolidated.csv\", index=False)"
   ]
  },
  {
   "cell_type": "code",
   "execution_count": 7,
   "id": "6eb9cd48",
   "metadata": {},
   "outputs": [],
   "source": [
    "prompt = f\"\"\"\n",
    "You are a legal research assistant specializing in European Union regulatory documents.\n",
    "\n",
    "You are given a DataFrame called `df_eurolex`, which contains the consolidated texts of various EU legal documents. Your task is to analyze this dataset and extract all entries related to customs enforcement actions under **Regulation (EU) No 608/2013**.\n",
    "\n",
    "For each relevant document:\n",
    "1. Identify and extract the **reference number** (e.g., C(2024) 6154 final)\n",
    "2. Extract the **publication date**\n",
    "3. Summarize the document's purpose in 1-2 sentences, if context allows\n",
    "\n",
    "Finally, create a **short chronological timeline** of these documents, ordered by publication date. The timeline should highlight how enforcement under Regulation (EU) No 608/2013 has evolved over time through implementing acts or related communications.\n",
    "\n",
    "Output format:\n",
    "- [Publication Date] - [Reference Number] - [Summary]\n",
    "\n",
    "Only include documents that are directly linked to Regulation (EU) No 608/2013 or its enforcement.\n",
    "\n",
    "Here are the document excerpts:\n",
    "\n",
    "{df_eurolex}\n",
    "\"\"\""
   ]
  },
  {
   "cell_type": "code",
   "execution_count": 8,
   "id": "267a326e",
   "metadata": {},
   "outputs": [
    {
     "name": "stdout",
     "output_type": "stream",
     "text": [
      "To extract and summarize the relevant documents related to customs enforcement actions under **Regulation (EU) No 608/2013** from the provided DataFrame, we will look for documents that explicitly reference this regulation in their **text**.\n",
      "\n",
      "### Extracted Documents\n",
      "\n",
      "1. **Document 1**\n",
      "   - **Reference Number**: C(2024) 6154 final\n",
      "   - **Publication Date**: 2024-09\n",
      "   - **Summary**: This document discusses the enforcement mechanisms established under Regulation (EU) No 608/2013 and provides details on recent actions taken against counterfeit goods at EU borders.\n",
      "\n",
      "2. **Document 2**\n",
      "   - **Reference Number**: 02021R2248-20240929\n",
      "   - **Publication Date**: 2024-09\n",
      "   - **Summary**: This regulation outlines the implementation details of customs enforcement actions, reinforcing the obligations of member states under Regulation (EU) No 608/2013.\n",
      "\n",
      "3. **Document 3**\n",
      "   - **Reference Number**: 52024PC0453\n",
      "   - **Publication Date**: 2024-10\n",
      "   - **Summary**: The communication sets forth the outcomes of customs enforcement measures taken in line with Regulation (EU) No 608/2013, including statistics and analysis of counterfeit goods seizures.\n",
      "\n",
      "### Chronological Timeline\n",
      "\n",
      "- **[2024-09] - [C(2024) 6154 final] - [This document discusses the enforcement mechanisms established under Regulation (EU) No 608/2013 and provides details on recent actions taken against counterfeit goods at EU borders.]**\n",
      "- **[2024-09] - [02021R2248-20240929] - [This regulation outlines the implementation details of customs enforcement actions, reinforcing the obligations of member states under Regulation (EU) No 608/2013.]**\n",
      "- **[2024-10] - [52024PC0453] - [The communication sets forth the outcomes of customs enforcement measures taken in line with Regulation (EU) No 608/2013, including statistics and analysis of counterfeit goods seizures.]**\n",
      "\n",
      "This timeline highlights the evolution and enforcement of customs actions under Regulation (EU) No 608/2013 through key documents issued in late 2024.\n"
     ]
    }
   ],
   "source": [
    "response = client.chat.completions.create(\n",
    "    model=\"gpt-4o-mini\", \n",
    "    messages=[\n",
    "        {\"role\": \"system\", \"content\": \"You are a helpful assistant.\"},\n",
    "        {\"role\": \"user\", \"content\": prompt}\n",
    "    ]\n",
    ")\n",
    "\n",
    "print(response.choices[0].message.content)"
   ]
  },
  {
   "cell_type": "code",
   "execution_count": null,
   "id": "8f44105e",
   "metadata": {},
   "outputs": [],
   "source": []
  }
 ],
 "metadata": {
  "kernelspec": {
   "display_name": "Prompt Engineering",
   "language": "python",
   "name": "python3"
  },
  "language_info": {
   "codemirror_mode": {
    "name": "ipython",
    "version": 3
   },
   "file_extension": ".py",
   "mimetype": "text/x-python",
   "name": "python",
   "nbconvert_exporter": "python",
   "pygments_lexer": "ipython3",
   "version": "3.11.12"
  }
 },
 "nbformat": 4,
 "nbformat_minor": 5
}
